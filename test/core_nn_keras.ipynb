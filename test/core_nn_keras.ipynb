{
 "cells": [
  {
   "cell_type": "code",
   "execution_count": 2,
   "metadata": {
    "scrolled": true
   },
   "outputs": [],
   "source": [
    "import numpy as np\n",
    "\n",
    "from keras.models import Sequential\n",
    "from keras.layers import Dense, Dropout"
   ]
  },
  {
   "cell_type": "code",
   "execution_count": 3,
   "metadata": {
    "collapsed": true
   },
   "outputs": [],
   "source": [
    "NEURAL_NETWORK_INPUT_SIZE = 20\n",
    "NEURAL_NETWORK_LAYER_SIZE = 40\n",
    "\n",
    "action_space_n = 2"
   ]
  },
  {
   "cell_type": "code",
   "execution_count": 4,
   "metadata": {
    "collapsed": true
   },
   "outputs": [],
   "source": [
    "class Q_Estimator_Nonlinear_Keras():\n",
    "    \"\"\"\n",
    "    Action-Value Function Approximator Q(s,a) with Tensorflow ANN.\n",
    "    \"\"\"\n",
    "    \n",
    "    def __init__(self):\n",
    "        self.models = []\n",
    "        for model_idx in range(action_space_n):\n",
    "            model = Sequential()\n",
    "            model.add(Dense(NEURAL_NETWORK_LAYER_SIZE, input_dim=NEURAL_NETWORK_INPUT_SIZE, activation='sigmoid'))\n",
    "            model.add(Dense(1, activation=None))\n",
    "\n",
    "            model.compile(loss='mean_squared_error',\n",
    "                          optimizer='Adam',\n",
    "                          metrics=['accuracy'])\n",
    "            \n",
    "            self.models.append(model)\n",
    "    \n",
    "    def predict(self, state, action=None, sess=None):\n",
    "        if action == None:\n",
    "            return [self.models[i].predict(state) for i in range(action_space_n)]  \n",
    "        else:\n",
    "            return [self.models[action].predict(state)]\n",
    "\n",
    "    def update(self, state, action, target, sess=None):\n",
    "        self.model[action].fit(state, target)"
   ]
  },
  {
   "cell_type": "code",
   "execution_count": 6,
   "metadata": {},
   "outputs": [
    {
     "name": "stdout",
     "output_type": "stream",
     "text": [
      "(100, 20)\n",
      "(100, 1)\n",
      "(10, 20)\n",
      "(10, 1)\n",
      "[[ 0.51008193  0.13423211  0.44823853  0.92652148  0.43208098  0.78109622\n",
      "   0.40693445  0.13655668  0.33662861  0.62005086  0.07370813  0.88979469\n",
      "   0.80921055  0.96513074  0.8445111   0.92567022  0.07640826  0.09329974\n",
      "   0.08018564  0.15299325]\n",
      " [ 0.12739655  0.29453338  0.17348866  0.07234604  0.18412497  0.53027482\n",
      "   0.6216294   0.6839921   0.92857872  0.72013627  0.95678446  0.33798311\n",
      "   0.15354796  0.69561062  0.64893843  0.53082399  0.03308283  0.04094742\n",
      "   0.67296969  0.12079861]\n",
      " [ 0.79225556  0.46701372  0.00683286  0.24513953  0.84886628  0.84781644\n",
      "   0.43545652  0.17828773  0.96665312  0.03563945  0.53151492  0.08206672\n",
      "   0.23201159  0.11433391  0.61343841  0.76236025  0.43681295  0.99066081\n",
      "   0.0402686   0.69307594]\n",
      " [ 0.44337586  0.99022506  0.72288916  0.07470471  0.50158564  0.71253334\n",
      "   0.32143906  0.27740049  0.44008377  0.96700603  0.59603132  0.00627624\n",
      "   0.13784187  0.58021997  0.56740113  0.99423202  0.57133876  0.96024205\n",
      "   0.95656568  0.70375175]\n",
      " [ 0.28738473  0.42405012  0.76715075  0.23323824  0.19874039  0.10515815\n",
      "   0.57295424  0.86648733  0.24654134  0.89697101  0.88988997  0.22738069\n",
      "   0.39927081  0.5217474   0.18803465  0.22218594  0.32469037  0.14895749\n",
      "   0.72187356  0.66626233]\n",
      " [ 0.7580159   0.26911891  0.3187661   0.20089787  0.8227243   0.54050471\n",
      "   0.46510895  0.85735729  0.11746167  0.69786932  0.15701263  0.37497177\n",
      "   0.34053988  0.05640832  0.84515031  0.97163584  0.0072575   0.54191745\n",
      "   0.5266034   0.37285901]\n",
      " [ 0.5806594   0.0463809   0.2667111   0.55613816  0.41123357  0.50550587\n",
      "   0.02144736  0.61201597  0.23343864  0.06806979  0.19391917  0.33386084\n",
      "   0.49443088  0.10804854  0.73429094  0.46848705  0.32630891  0.81059475\n",
      "   0.52873057  0.24885302]\n",
      " [ 0.44264617  0.7516018   0.75242178  0.3685078   0.53329928  0.0835506\n",
      "   0.23638096  0.84548479  0.44756055  0.24421525  0.62157004  0.04946462\n",
      "   0.23205769  0.00815243  0.94249584  0.297005    0.81389144  0.02338862\n",
      "   0.58390364  0.73069379]\n",
      " [ 0.27937851  0.74808614  0.05572464  0.60360186  0.45085371  0.69280477\n",
      "   0.29276971  0.41509212  0.21864623  0.63056159  0.43410667  0.15166553\n",
      "   0.40170838  0.91017734  0.58778769  0.98678085  0.15529222  0.72001377\n",
      "   0.86545932  0.15980067]\n",
      " [ 0.96344682  0.63962089  0.5402271   0.69746172  0.34924194  0.01676401\n",
      "   0.48204036  0.60775057  0.32507916  0.06485973  0.01591097  0.55123625\n",
      "   0.98638552  0.3949311   0.22829871  0.90986388  0.96919572  0.01792363\n",
      "   0.69150067  0.00206578]]\n"
     ]
    },
    {
     "data": {
      "text/plain": [
       "[array([[-0.14110538],\n",
       "        [ 0.02073169],\n",
       "        [ 0.07831526],\n",
       "        [-0.18779391],\n",
       "        [-0.09590712],\n",
       "        [-0.03515533],\n",
       "        [ 0.05235663],\n",
       "        [-0.01029629],\n",
       "        [-0.12812915],\n",
       "        [-0.21114141]], dtype=float32), array([[-1.60255134],\n",
       "        [-1.45150459],\n",
       "        [-1.59886289],\n",
       "        [-1.45458913],\n",
       "        [-1.40640461],\n",
       "        [-1.54180431],\n",
       "        [-1.53917122],\n",
       "        [-1.38212454],\n",
       "        [-1.48570538],\n",
       "        [-1.37831974]], dtype=float32)]"
      ]
     },
     "execution_count": 6,
     "metadata": {},
     "output_type": "execute_result"
    }
   ],
   "source": [
    "# Generate dummy data\n",
    "x_train = np.random.random((100, 20))\n",
    "y_train = np.random.randint(2, size=(100, 1))\n",
    "x_test = np.random.random((10, 20))\n",
    "y_test = np.random.randint(2, size=(10, 1))\n",
    "\n",
    "print np.shape(x_train)\n",
    "print np.shape(y_train)\n",
    "print np.shape(x_test)\n",
    "print np.shape(y_test)\n",
    "\n",
    "print x_test\n",
    "\n",
    "estimator = Q_Estimator_Nonlinear_Keras()\n",
    "\n",
    "estimator.predict(x_test)"
   ]
  }
 ],
 "metadata": {
  "kernelspec": {
   "display_name": "Python 2",
   "language": "python",
   "name": "python2"
  },
  "language_info": {
   "codemirror_mode": {
    "name": "ipython",
    "version": 2
   },
   "file_extension": ".py",
   "mimetype": "text/x-python",
   "name": "python",
   "nbconvert_exporter": "python",
   "pygments_lexer": "ipython2",
   "version": "2.7.13"
  }
 },
 "nbformat": 4,
 "nbformat_minor": 2
}
