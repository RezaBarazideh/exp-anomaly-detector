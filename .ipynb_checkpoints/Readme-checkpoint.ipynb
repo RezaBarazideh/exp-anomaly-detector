{
 "cells": [
  {
   "cell_type": "markdown",
   "metadata": {},
   "source": [
    "# Readme\n",
    "\n",
    "## Requirements:\n",
    "1. python 2.7\n",
    "\n",
    "2. tensorflow 1.1.0\n",
    "\n",
    "3. numpy 1.12.1\n",
    "\n",
    "4. matplotlib 2.0.2\n",
    "\n",
    "5. pandas 0.20.2\n",
    "\n",
    "6. scikit-learn 0.18.1\n",
    "\n",
    "Please also install other packages if necessary (will be noticed if a package is not installed).\n",
    "\n",
    "## Folders:\n",
    "\n",
    "1. env: the environments used for generating states in reinforcement learning;\n",
    "\n",
    "2. exp: the folders to maintain experiment outputs (checkpoint, summaries, etc.);\n",
    "\n",
    "3. test: the unit tests for basic functions\n",
    "\n",
    "## Files:\n",
    "\n",
    "1. Anomaly Detection with Q-learning (RNN n-n, boosted binary tree train).ipynb: main file for training the model\n",
    "\n",
    "2. Anomaly Detection with Q-learning (RNN n-n, boosted binary tree test).ipynb: main file for testing the model\n",
    "\n",
    "These two files are roughly the same except the last section in each of them. One is for training using Yahoo benchmark dataset, and the other is for testing using Numenta datasets.\n",
    "\n",
    "## Notes:\n",
    "\n",
    "1. Please open \"Anomaly Detection with Q-learning (RNN n-n, boosted binary tree test).ipynb\" for the testing results of using the model for anomaly detection (Numenta datasets).\n",
    "\n",
    "2. Please open \"Anomaly Detection with Q-learning (RNN n-n, boosted binary tree training).ipynb\" for the training of the model. Before running the training file, please check the file \"time_series_repo_ext.py\" in env to correct the environment to load the training datasets (Yahoo Benchmark A1-A4).\n",
    "\n",
    "3. Practically, the training process could be done incrementally (by incrementally augmenting the datasets). But this functionality is currently not supported.\n",
    "\n",
    "4. You could change the strings \"exp_relative_dir\" or \"dataset_dir\" to change the pointed locations of experiment folders and dataset folders respectively."
   ]
  }
 ],
 "metadata": {
  "kernelspec": {
   "display_name": "Python 2",
   "language": "python",
   "name": "python2"
  },
  "language_info": {
   "codemirror_mode": {
    "name": "ipython",
    "version": 2
   },
   "file_extension": ".py",
   "mimetype": "text/x-python",
   "name": "python",
   "nbconvert_exporter": "python",
   "pygments_lexer": "ipython2",
   "version": "2.7.13"
  }
 },
 "nbformat": 4,
 "nbformat_minor": 2
}
