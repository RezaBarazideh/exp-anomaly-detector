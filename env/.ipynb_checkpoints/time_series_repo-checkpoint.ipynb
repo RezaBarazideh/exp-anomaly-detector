{
 "cells": [
  {
   "cell_type": "markdown",
   "metadata": {},
   "source": [
    "# Environment that selects time series from a repo\n",
    "## Use default state and reward design function\n",
    "This is a source code file describing the environment that selects a time series with lablled anomalies from a repository. The repository contains a list of time series that are lablled with anomalies.\n",
    "\n",
    "Currently, the repoistory used is from Yahoo benchmark dataset, which contains 4 lists of datasets, each of which has more than 50 one-dimensional time series datasets. The repository is provided under the folder \"time_series_repo\".\n",
    "\n",
    "The state design function, i.e, the state of the environment, is to return the time series value in a specific time step.\n",
    "\n",
    "And the reward design function is to return 1 if the action of reporting anomaly is correct, 0 otherwise.\n",
    "\n",
    "Check time_series_repo.py for a more complete version of the environment, which accepts a state design function and a reward design function as inputs.\n",
    "\n",
    "## Purpose\n",
    "This file provides an interface for the reinformcement learning algorithm to communication with the environment. It provides several functions:\n",
    "\n",
    "### 1. state = env.reset()\n",
    "reset() function: It selects a time series dataset from the repository and return the first data element in the time series as the current state of the environment.\n",
    "\n",
    "### 2. next_state, reward, done, other = env.step(action)\n",
    "step() function: It accepts an action as the input. The action indicates whether the anomaly detector considers the previous state as an anomalous state. And it returns several items.\n",
    "\n",
    "The returned next_state is the next data element in the corresponding time series dataset.\n",
    "\n",
    "The returned reward is designed to reflect the correctness of the anomaly detector. In other words, if the anomaly detector responses correctly to the anomalous state, then the reward would be positive, otherwise negative.\n",
    "\n",
    "The returned done is a flag indicating whether the time series dataset has ended."
   ]
  },
  {
   "cell_type": "code",
   "execution_count": null,
   "metadata": {
    "collapsed": true
   },
   "outputs": [],
   "source": [
    "import pandas as pd\n",
    "import numpy as np\n",
    "\n",
    "import random\n",
    "import os\n",
    "\n",
    "import sklearn.preprocessing"
   ]
  },
  {
   "cell_type": "code",
   "execution_count": null,
   "metadata": {
    "collapsed": true
   },
   "outputs": [],
   "source": [
    "NOT_ANOMALY = 0\n",
    "ANOMALY = 1\n",
    "\n",
    "REWARD_CORRECT = 1\n",
    "REWARD_INCORRECT = -1\n",
    "\n",
    "action_space = [NOT_ANOMALY, ANOMALY]"
   ]
  },
  {
   "cell_type": "code",
   "execution_count": null,
   "metadata": {},
   "outputs": [],
   "source": [
    "# get all the path of the csv files to be loaded \n",
    "repodir = '../env/time_series_repo/'\n",
    "repodirext = []\n",
    "\n",
    "for subdir, dirs, files in os.walk(repodir):\n",
    "    for file in files:\n",
    "        if file.find('.csv') != -1:\n",
    "            repodirext.append(os.path.join(subdir, file))\n",
    "\n",
    "# each csv file is read as the following, therefore contains three columns:\n",
    "# - timestamp\n",
    "# - value\n",
    "# - anomaly\n",
    "timeseries = pd.read_csv(repodirext[random.randint(0, len(repodirext)-1)],\n",
    "                        usecols=[0,1,2], header=0, names=['timestamp','value','anomaly'])"
   ]
  },
  {
   "cell_type": "markdown",
   "metadata": {},
   "source": [
    "## The Original Version of Env"
   ]
  },
  {
   "cell_type": "code",
   "execution_count": null,
   "metadata": {
    "collapsed": true
   },
   "outputs": [],
   "source": [
    "class EnvTimeSeriesfromRepo():\n",
    "    # init the class instance\n",
    "    def __init__(self):\n",
    "        self.action_space_n = len(action_space)\n",
    "        self.timeseries_curser = 0\n",
    "    \n",
    "    # reset the instance\n",
    "    def reset(self):\n",
    "        # 1. select a new time series from the repo and load\n",
    "        # the time series contains \"timestamp\", \"value\", \"anomaly\"\n",
    "        self.timeseries = pd.read_csv(repodirext[random.randint(0, len(repodirext)-1)],\n",
    "                                     usecols=[0,1,2], header=0, names=['timestamp','value','anomaly'])\n",
    "        self.timeseries_curser = 0\n",
    "        \n",
    "        # 2. return the first state, containing the first element of the time series\n",
    "        return self.timeseries['value'][self.timeseries_curser]\n",
    "        \n",
    "    # take a step and gain a reward\n",
    "    def step(self, action):\n",
    "        assert(action in action_space)\n",
    "        \n",
    "        # 1. get the reward of the action\n",
    "        if action == self.timeseries['anomaly'][self.timeseries_curser]:\n",
    "            reward = REWARD_CORRECT\n",
    "        else:\n",
    "            reward = REWARD_INCORRECT\n",
    "        \n",
    "        # 2. get the next state and the done flag after the action\n",
    "        self.timeseries_curser += 1\n",
    "        \n",
    "        if self.timeseries_curser >= self.timeseries['value'].size:\n",
    "            done = 1\n",
    "            state = []\n",
    "        else:\n",
    "            done = 0\n",
    "            state = self.timeseries['value'][self.timeseries_curser]\n",
    "            \n",
    "        return state, reward, done, []"
   ]
  }
 ],
 "metadata": {
  "kernelspec": {
   "display_name": "Python 2",
   "language": "python",
   "name": "python2"
  },
  "language_info": {
   "codemirror_mode": {
    "name": "ipython",
    "version": 2
   },
   "file_extension": ".py",
   "mimetype": "text/x-python",
   "name": "python",
   "nbconvert_exporter": "python",
   "pygments_lexer": "ipython2",
   "version": "2.7.13"
  }
 },
 "nbformat": 4,
 "nbformat_minor": 2
}
